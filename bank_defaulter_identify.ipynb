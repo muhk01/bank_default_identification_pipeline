{
 "cells": [
  {
   "cell_type": "markdown",
   "id": "a06661f1-0c3d-4c91-a2c2-daceb74c2690",
   "metadata": {},
   "source": [
    "## Identify Fraud Points "
   ]
  },
  {
   "cell_type": "markdown",
   "id": "6241c581-87be-4c54-a4e1-b41e00ddd3d5",
   "metadata": {
    "tags": []
   },
   "source": [
    "Credit card skippers/defaulters:\n",
    "\n",
    "--> Assign 1 point to customer for short payment, where a short payment means when customer fails to clear atleast 70% of its monthly spends.\n",
    "\n",
    "--> Assign 1 point to customer where he has spent 100% of his max_limit but did not clear the full amount.\n",
    "\n",
    "--> If for any month customer is meeting both the above conditions,assign 1 additional point.\n",
    "\n",
    "--> Sum up all the points for a customer and output in file.\n",
    "\n",
    "\n",
    "\n",
    "\n",
    "Loan file key points:\n",
    "\n",
    "--> For Personal loan category, Bank does not accept short or late payments.\n",
    "   If a person has not paid monthly installment then that month's entry won't be present in the file.\n",
    "\n",
    "--> For Medical loan, Bank does accepts late payments but it should be the full amount. It is assumed that there is every month's data/record for Medical Loan.\n",
    "\n",
    "\n",
    "\n",
    "Loan defaulters:\n",
    "\n",
    "--> Medical Loan defaulters : If customer has made a total of 3 or more late payments.\n",
    "\n",
    "--> Personal Loan defaulters : If customer has missed a total of 4 or more installments OR missed 2 consecutive installments."
   ]
  },
  {
   "cell_type": "code",
   "execution_count": null,
   "id": "da7623f1-5970-45bd-9684-008a0f61c09c",
   "metadata": {
    "tags": []
   },
   "outputs": [],
   "source": [
    "import apache_beam as beam\n",
    "from datetime import datetime"
   ]
  },
  {
   "cell_type": "code",
   "execution_count": 32,
   "id": "ebfa8eb9-fb6b-42c9-a874-d07edd8a2f9e",
   "metadata": {
    "tags": []
   },
   "outputs": [],
   "source": [
    "def calculate_points(element):\n",
    "    customer_id, first_name, last_name, relationship_id, card_type, max_limit, spent, cash_withdrawn, payment_cleared, payment_date = element.split(',')\n",
    "    spent = int(spent)\n",
    "    payment_cleared = int(payment_cleared)\n",
    "    max_limit = int(max_limit)\n",
    "    \n",
    "    key_name = customer_id + ',' + first_name + ',' + last_name\n",
    "    defaulter_points = 0\n",
    "    \n",
    "    if (payment_cleared > (spent*0.7)):\n",
    "        defaulter_points += 1\n",
    "    if (spent == max_limit) and (payment_cleared < spent):\n",
    "        defaulter_points += 1\n",
    "    if (spent == max_limit) and (payment_cleared < (spent*0.7)):\n",
    "        defaulter_points += 1\n",
    "    return key_name, defaulter_points\n",
    "\n",
    "def calculate_month(input_list): #input --> [CT88330,Humberto,Banks,Serviceman,LN_1559,Medical Loan,26-01-2018, 2000, 30-01-2018]\n",
    "    payment_date = datetime.strptime(input_list[8].rstrip().lstrip(), '%d-%m-%Y') #get array of index 8 (payment_date) convert to month\n",
    "    input_list.append(str(payment_date.month)) #append month to last array [CT88330,Humberto,Banks,Serviceman,LN_1559,Medical Loan,26-01-2018, 2000, 30-01-2018, 1]\n",
    "    \n",
    "    return input_list\n",
    "    \n",
    "def calculate_late_payment(elements):\n",
    "    due_date = datetime.strptime(elements[6].rstrip().lstrip(), '%d-%m-%Y')\n",
    "    payment_date = datetime.strptime(elements[8].rstrip().lstrip(), '%d-%m-%Y')\n",
    "\n",
    "    if payment_date <= due_date:\n",
    "        elements.append('0')\n",
    "    else:\n",
    "        elements.append('1')\n",
    "    return elements\n",
    "\n",
    "def calculate_personal_loan_defaulter(input): #input -->  CT6855, Ronald Chiki value --> [01,05,06,07,08,09,10,11,12]\n",
    "    max_allowed_missed_months = 4\n",
    "    max_allowed_consecutive_missing = 2\n",
    "    \n",
    "    name, months_list = input                 #input [CT6855, Ronald, Chiki, Serviceman, LN_8460, Personal Loan, 25-01-2018, 50000, 25-01-2018]\n",
    "    months_list.sort()\n",
    "    sorted_months = months_list\n",
    "    total_payments = len(sorted_months)\n",
    "    \n",
    "    missed_payments = 12 - total_payments\n",
    "    \n",
    "    if missed_payments > max_allowed_missed_months:\n",
    "        return name, missed_payments\n",
    "    \n",
    "    consecutive_missed_months = 0\n",
    "    \n",
    "    temp = sorted_months[0] - 1\n",
    "    if temp > consecutive_missed_months:\n",
    "        consecutive_missed_months = temp\n",
    "    \n",
    "    temp = 12 - sorted_months[total_payments-1]\n",
    "    if temp > consecutive_missed_months:\n",
    "        consecutive_missed_months = temp\n",
    "    \n",
    "    for i in range(1, len(sorted_months)):\n",
    "        temp = sorted_months[i] - sorted_months[i-1] -1\n",
    "        if temp > consecutive_missed_months:\n",
    "            consecutive_missed_months = temp\n",
    "    \n",
    "    if consecutive_missed_months > max_allowed_consecutive_missing:\n",
    "        return name, consecutive_missed_months\n",
    "    return name, 0\n",
    "    \n",
    "def format_output(sum_pair):\n",
    "    key_name, miss_months = sum_pair\n",
    "    return str(key_name) + ',' + str(miss_months) + ' missed'\n",
    "\n",
    "def format_result(sum_pair):\n",
    "    key_name, points = sum_pair\n",
    "    return str(key_name) + ',' + str(points) + ' fraud_points'\n",
    "\n",
    "\n",
    "def return_tuple(element):\n",
    "    temp_tuple=element.split(',')\n",
    "    return(temp_tuple[0], temp_tuple[1:])\n",
    "    \n",
    "with beam.Pipeline() as p:\n",
    "    card_defaulter = (\n",
    "        p\n",
    "        | \"read CC data\" >> beam.io.ReadFromText('./testdata/beam_data/bank/bank/cards.txt', skip_header_lines=1)\n",
    "        | \"calc default point\" >> beam.Map(calculate_points)\n",
    "        | \"Sum default total\" >> beam.CombinePerKey(sum)\n",
    "        | \"filter card defaulter\" >> beam.Filter(lambda element: element[1] > 0)\n",
    "        | \"output\" >> beam.Map(format_result)\n",
    "        | \"output on tuple\" >> beam.Map(return_tuple)\n",
    "        #| \"output file\" >> beam.io.WriteToText('./testdata/beam_data/bank/bank/output/default')\n",
    "    )\n",
    "    medical_loan_defaulter = (\n",
    "        p\n",
    "        | beam.io.ReadFromText('./testdata/beam_data/bank/bank/loan.txt')\n",
    "        | \"split row\" >> beam.Map(lambda row: row.split(','))\n",
    "        | \"filter medical\" >> beam.Filter(lambda element: (element[5]).rstrip().lstrip() == 'Medical Loan')\n",
    "        | \"calculate late payment\" >> beam.Map(calculate_late_payment)\n",
    "        | \"make key value pairs\" >> beam.Map(lambda element: (element[0] + ', ' + element[1]+ ' ' + element[2],int(element[9]))) #id, first last name, number of missed\n",
    "        | \"group medical loan based on month\" >> beam.CombinePerKey(sum)\n",
    "        | \"format medical loan output\" >> beam.Map(format_output)\n",
    "        #| \"output file_med\" >> beam.io.WriteToText('./testdata/beam_data/bank/bank/output/loanmed')\n",
    "    )\n",
    "    \n",
    "    personal_loan_defaulter = (\n",
    "        p\n",
    "        | \"read\" >> beam.io.ReadFromText('./testdata/beam_data/bank/bank/loan.txt')\n",
    "        | \"split\" >> beam.Map(lambda row: row.split(','))\n",
    "        | \"filter personal\" >> beam.Filter(lambda element: (element[5]).rstrip().lstrip() == 'Personal Loan')\n",
    "        | \"split and append new months\" >> beam.Map(calculate_month)\n",
    "        | \"make key value pairs loan\" >> beam.Map(lambda elements: (elements[0] + ', ' +elements[1] + ' ' +elements[2], int(elements[9])))\n",
    "        | \"group personal loan based on month\" >> beam.GroupByKey()\n",
    "        | \"check for personal loan defaulter\" >> beam.Map(calculate_personal_loan_defaulter)\n",
    "        | \"filter only defaulter\" >> beam.Filter(lambda element:element[1]>0)\n",
    "        | \"format personal loan output\" >> beam.Map(format_output)\n",
    "        #| \"output file_personal\" >> beam.io.WriteToText('./testdata/beam_data/bank/bank/output/loanpersonal')\n",
    "    )\n",
    "    final_loan_defaulter = (\n",
    "        (personal_loan_defaulter, medical_loan_defaulter)\n",
    "        | \"union both defaulter\" >> beam.Flatten()\n",
    "        #| \"test\" >> beam.Map(print)\n",
    "        | \"output tuple\" >> beam.Map(return_tuple)\n",
    "    )\n",
    "    # join for card defaulter and flattened result of both loan defaulter\n",
    "    both_defaulters = (\n",
    "        {'card_defaulter':card_defaulter, 'loan_defaulter':final_loan_defaulter}\n",
    "        | \"Join\" >> beam.CoGroupByKey()\n",
    "        #| \"output file_personal\" >> beam.io.WriteToText('./testdata/beam_data/bank/bank/output/bothdefaulter')\n",
    "    )\n",
    "    "
   ]
  },
  {
   "cell_type": "code",
   "execution_count": 23,
   "id": "3128f2a2-38b8-4d4b-be7c-9d0fe786c01d",
   "metadata": {
    "tags": []
   },
   "outputs": [
    {
     "name": "stdout",
     "output_type": "stream",
     "text": [
      "CT28383,Miyako,Burns,9 fraud_points\n",
      "CT74474,Nanaho,Brennan,9 fraud_points\n",
      "CT66322,Chris,Bruce,11 fraud_points\n",
      "CT65528,Bonnie,Barlow,10 fraud_points\n",
      "CT84463,Isaac,Bowman,8 fraud_points\n"
     ]
    }
   ],
   "source": [
    "!powershell -Command \"Get-Content -TotalCount 5 './testdata/beam_data/bank/bank/output/default-00000-of-00001'\""
   ]
  },
  {
   "cell_type": "code",
   "execution_count": 24,
   "id": "f5fa3391-c39b-4de2-8f1c-c1cb531f098a",
   "metadata": {
    "tags": []
   },
   "outputs": [
    {
     "name": "stdout",
     "output_type": "stream",
     "text": [
      "CT88330, Humberto Banks,7 missed\n",
      "CT71222, Josephine Barr,9 missed\n",
      "CT14299, Miyuki Brooks,6 missed\n",
      "CT63122, Etsuko Branch,5 missed\n",
      "CT12439, Shary Cash,7 missed\n"
     ]
    }
   ],
   "source": [
    "!powershell -Command \"Get-Content -TotalCount 5 './testdata/beam_data/bank/bank/output/loanmed-00000-of-00001'\""
   ]
  },
  {
   "cell_type": "code",
   "execution_count": 25,
   "id": "f45ed666-c308-4b76-a547-a781ad213702",
   "metadata": {},
   "outputs": [
    {
     "name": "stdout",
     "output_type": "stream",
     "text": [
      "CT68554, Ronald Chiki,3 missed\n",
      "CT56276, Fay Carr,10 missed\n",
      "CT30950, Arlene Calderon,10 missed\n",
      "CT27126, Nicole Acevedo,6 missed\n",
      "CT29233, Wilma Abbott,5 missed\n"
     ]
    }
   ],
   "source": [
    "!powershell -Command \"Get-Content -TotalCount 5 './testdata/beam_data/bank/bank/output/loanpersonal-00000-of-00001'\""
   ]
  },
  {
   "cell_type": "code",
   "execution_count": 31,
   "id": "a7e324c1-f588-4dc5-b37d-2a6769ff725e",
   "metadata": {
    "tags": []
   },
   "outputs": [
    {
     "name": "stdout",
     "output_type": "stream",
     "text": [
      "('CT28383', {'card_defaulter': [['Miyako', 'Burns', '9 fraud_points']], 'loan_defaulter': []})\n",
      "('CT74474', {'card_defaulter': [['Nanaho', 'Brennan', '9 fraud_points']], 'loan_defaulter': [[' Nanaho Brennan', '5 missed']]})\n",
      "('CT66322', {'card_defaulter': [['Chris', 'Bruce', '11 fraud_points']], 'loan_defaulter': [[' Chris Bruce', '8 missed']]})\n",
      "('CT65528', {'card_defaulter': [['Bonnie', 'Barlow', '10 fraud_points']], 'loan_defaulter': []})\n",
      "('CT84463', {'card_defaulter': [['Isaac', 'Bowman', '8 fraud_points']], 'loan_defaulter': [[' Isaac Bowman', '3 missed']]})\n"
     ]
    }
   ],
   "source": [
    "!powershell -Command \"Get-Content -TotalCount 5 './testdata/beam_data/bank/bank/output/bothdefaulter-00000-of-00001'\""
   ]
  },
  {
   "cell_type": "code",
   "execution_count": null,
   "id": "9f075148-293c-49d3-b37c-e5dffc9e2ce9",
   "metadata": {},
   "outputs": [],
   "source": []
  }
 ],
 "metadata": {
  "kernelspec": {
   "display_name": "Python 3 (ipykernel)",
   "language": "python",
   "name": "python3"
  },
  "language_info": {
   "codemirror_mode": {
    "name": "ipython",
    "version": 3
   },
   "file_extension": ".py",
   "mimetype": "text/x-python",
   "name": "python",
   "nbconvert_exporter": "python",
   "pygments_lexer": "ipython3",
   "version": "3.7.9"
  }
 },
 "nbformat": 4,
 "nbformat_minor": 5
}
